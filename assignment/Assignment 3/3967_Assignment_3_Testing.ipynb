{
 "cells": [
  {
   "attachments": {},
   "cell_type": "markdown",
   "metadata": {},
   "source": [
    "# Python for Automation - Assignment 3\n",
    "\n",
    "## Assignment Objectives\n",
    "\n",
    "The objectives of this assignment are to test your understanding of the programming best practices, including:\n",
    "\n",
    "* Unit tests\n",
    "* Quality code\n",
    "\n",
    "\n",
    "## Assignment Instructions\n",
    "\n",
    "For each of the questions below, write Python code to produce the answer. Be sure to run your code and display the output.\n",
    "\n",
    "To submit the assignment, save your Jupyter notebook and submit the file in Quercus."
   ]
  },
  {
   "attachments": {},
   "cell_type": "markdown",
   "metadata": {},
   "source": [
    "### Question 1 (10 marks):\n",
    "\n",
    "Create a \"Number Guessing\" application where the computer picks a number between 1 and 100, and the user has to guess which number the game has given. Each time the guess is incorrect, the application can provide a clue (e.g., divisible by 2, greater than 50, etc.)."
   ]
  },
  {
   "cell_type": "code",
   "execution_count": 1,
   "metadata": {},
   "outputs": [
    {
     "name": "stdout",
     "output_type": "stream",
     "text": [
      "87\n",
      "you guessed it right!!\n"
     ]
    }
   ],
   "source": [
    "import random\n",
    "n = random.randrange(1,100)\n",
    "guess = int(input(\"Enter any number between 1 and 100: \"))\n",
    "while n!= guess:\n",
    "    if guess < n & n%2==0:\n",
    "        print(\"Number chosen is too low. Hint: Generated Number can be divisible by 2\")\n",
    "        guess = int(input(\"Enter number again: \"))\n",
    "    elif guess > n & n%2==0:\n",
    "        print(\"Number chosen is too high. Hint: Generated Number can be divisible by 2\")\n",
    "        guess = int(input(\"Enter number again: \"))\n",
    "    elif guess > n & n <= 50:\n",
    "        print(\"Number chosen is too high. Hint: Number is lower than or equals to 50\")\n",
    "        guess = int(input(\"Enter number again\"))\n",
    "    elif guess < n & n > 50:\n",
    "        print(\"Number chosen is too high. Hint: Number is higher than 50\")\n",
    "    \n",
    "    else:\n",
    "      break\n",
    "print(\"you guessed it right!!\")"
   ]
  },
  {
   "cell_type": "code",
   "execution_count": null,
   "metadata": {},
   "outputs": [],
   "source": []
  },
  {
   "attachments": {},
   "cell_type": "markdown",
   "metadata": {},
   "source": [
    "### Question 2 (5 marks):\n",
    "\n",
    "Build a set of unit tests for the application. Explain your rationale for which tests you decided to build."
   ]
  },
  {
   "cell_type": "code",
   "execution_count": null,
   "metadata": {},
   "outputs": [],
   "source": []
  },
  {
   "cell_type": "code",
   "execution_count": null,
   "metadata": {},
   "outputs": [],
   "source": []
  }
 ],
 "metadata": {
  "kernelspec": {
   "display_name": "Python 3",
   "language": "python",
   "name": "python3"
  },
  "language_info": {
   "codemirror_mode": {
    "name": "ipython",
    "version": 3
   },
   "file_extension": ".py",
   "mimetype": "text/x-python",
   "name": "python",
   "nbconvert_exporter": "python",
   "pygments_lexer": "ipython3",
   "version": "3.11.0"
  }
 },
 "nbformat": 4,
 "nbformat_minor": 4
}
