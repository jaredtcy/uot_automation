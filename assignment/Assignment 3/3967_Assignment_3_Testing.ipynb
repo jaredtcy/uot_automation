{
 "cells": [
  {
   "attachments": {},
   "cell_type": "markdown",
   "metadata": {},
   "source": [
    "# Python for Automation - Assignment 3\n",
    "\n",
    "## Assignment Objectives\n",
    "\n",
    "The objectives of this assignment are to test your understanding of the programming best practices, including:\n",
    "\n",
    "* Unit tests\n",
    "* Quality code\n",
    "\n",
    "\n",
    "## Assignment Instructions\n",
    "\n",
    "For each of the questions below, write Python code to produce the answer. Be sure to run your code and display the output.\n",
    "\n",
    "To submit the assignment, save your Jupyter notebook and submit the file in Quercus."
   ]
  },
  {
   "attachments": {},
   "cell_type": "markdown",
   "metadata": {},
   "source": [
    "### Question 1 (10 marks):\n",
    "\n",
    "Create a \"Number Guessing\" application where the computer picks a number between 1 and 100, and the user has to guess which number the game has given. Each time the guess is incorrect, the application can provide a clue (e.g., divisible by 2, greater than 50, etc.)."
   ]
  },
  {
   "cell_type": "code",
   "execution_count": 3,
   "metadata": {},
   "outputs": [
    {
     "name": "stdout",
     "output_type": "stream",
     "text": [
      "Number chosen is too low. Hint: Generated Number can be divisible by 2 and higher than 50\n",
      "Number chosen is too low. Hint: Generated Number can be divisible by 2 and higher than 50\n",
      "Number chosen is too low. Hint: Generated Number can be divisible by 2 and higher than 50\n",
      "Number chosen is too low. Hint: Generated Number can be divisible by 2 and higher than 50\n",
      "you guessed it right!!\n"
     ]
    }
   ],
   "source": [
    "import random\n",
    "n = random.randrange(1,100)\n",
    "guess = int(input(\"Enter any number between 1 and 100: \"))\n",
    "def guessing(guess):\n",
    "    while n!= guess:\n",
    "        if guess < n and n%2==0 and guess <n and n>50:\n",
    "            print(\"Number chosen is too low. Hint: Generated Number can be divisible by 2 and higher than 50\")\n",
    "            guess = int(input(\"Enter number again: \"))\n",
    "        elif guess > n and n%2==0 and guess > n and n <= 50:\n",
    "            print(\"Number chosen is too high. Hint: Generated Number can be divisible by 2 and lower than or equals to 50\")\n",
    "            guess = int(input(\"Enter number again: \"))\n",
    "        else:\n",
    "            break\n",
    "    print(\"you guessed it right!!\")\n",
    "guessing(guess)"
   ]
  },
  {
   "attachments": {},
   "cell_type": "markdown",
   "metadata": {},
   "source": [
    "### Question 2 (5 marks):\n",
    "\n",
    "Build a set of unit tests for the application. Explain your rationale for which tests you decided to build."
   ]
  },
  {
   "cell_type": "code",
   "execution_count": 17,
   "metadata": {},
   "outputs": [],
   "source": [
    "# Assertion testing is being used here to check and verify that the program is running correctly and confirming that the value the user input is indeed equivalent to the value that the system choses\n",
    "assert guessing(guess) == n \n"
   ]
  }
 ],
 "metadata": {
  "kernelspec": {
   "display_name": "Python 3",
   "language": "python",
   "name": "python3"
  },
  "language_info": {
   "codemirror_mode": {
    "name": "ipython",
    "version": 3
   },
   "file_extension": ".py",
   "mimetype": "text/x-python",
   "name": "python",
   "nbconvert_exporter": "python",
   "pygments_lexer": "ipython3",
   "version": "3.11.0"
  }
 },
 "nbformat": 4,
 "nbformat_minor": 4
}
