{
 "cells": [
  {
   "attachments": {},
   "cell_type": "markdown",
   "metadata": {},
   "source": [
    "# Python for Automation - Assignment 2\n",
    "\n",
    "## Assignment Objectives\n",
    "\n",
    "The objectives of this assignment are to test your understanding of the solution development practices with Python, including:\n",
    "\n",
    "* Working with classes\n",
    "* Working with functions\n",
    "* Working with data files\n",
    "\n",
    "\n",
    "## Assignment Instructions\n",
    "\n",
    "For each of the questions below, write Python code to produce the answer. Be sure to run your code and display the output.\n",
    "\n",
    "To submit the assignment, save your Jupyter notebook and submit the file in Quercus."
   ]
  },
  {
   "attachments": {},
   "cell_type": "markdown",
   "metadata": {},
   "source": [
    "### Question 1 (5 marks):\n",
    "\n",
    "* A company which started in 2020 has asked you to build an HR program to hold information about its employees. You've been given the following requirements: \n",
    "    - Create a new class called 'Employees' which holds the following information about each employee: year_onboarded, name, assigned_email, department, manager, current_salary, and assigned_software.\n",
    "        - The email should take the format of \"name@company.com\". This should be an auto-populated field.\n",
    "        - The class should also have methods to return information relevant to HR or IT. It should include, at least:\n",
    "            - The count of softwares the employee has access to\n",
    "            - How many years the employee has worked in the company since its inception\n",
    "            - The employee's raise and new salary at Year End, assuming a 5% increase rate\n",
    "\n",
    "\n",
    "* Feel free to add any additional attributes or methods you think are necessary.\n",
    "\n",
    "\n",
    "* Create a few test employees and demonstrate how the attributes and methods defined work."
   ]
  },
  {
   "cell_type": "code",
   "execution_count": 151,
   "metadata": {},
   "outputs": [],
   "source": [
    "class Employees:\n",
    "    # Define class attribute\n",
    "    def __init__(self,name,assigned_email,department,manager,current_salary,assigned_software,year_onboarded): \n",
    "        self.name = str(name)\n",
    "        self.assigned_email = str(assigned_email)\n",
    "        self.department = str(department)\n",
    "        self.manager = str(manager)\n",
    "        self.current_salary = int(current_salary)\n",
    "        self.assigned_software = list(assigned_software)\n",
    "        self.year_onboarded = int(year_onboarded)\n",
    "\n",
    "    def number_of_software(self):\n",
    "        size=len(self.assigned_software)\n",
    "        print(f\"{size} software assigned to {self.name}\")\n",
    "\n",
    "    def number_of_years(self):\n",
    "        print(f\"{self.name} has been working in the company for {2023 - self.year_onboarded} years since inception\")\n",
    "\n",
    "    def employee_new_salary(self):\n",
    "        increment = int(0.05*self.current_salary)\n",
    "        new_salary=int(1.05*self.current_salary)\n",
    "        print(f\"{self.name} has an increment of ${increment} and his new salary for year end is ${new_salary}\")\n",
    "        \n",
    "    @classmethod\n",
    "    def new_employee(cls):\n",
    "        name = input('name:')\n",
    "        assigned_email = input('email: The email should be in the format of name@company.com') \n",
    "        department = input('department: ')\n",
    "        manager = input('manager: ')\n",
    "        current_salary = int(input('current_salary: '))\n",
    "        assigned_software=(input('Enter assigned_softwares separated by space: ')).split()\n",
    "        year_onboarded = input('year onboarded: ')\n",
    "\n",
    "        return cls(name,assigned_email,department,manager,current_salary,assigned_software,year_onboarded)\n",
    "    \n",
    "    #question 2\n",
    "    def softwarerequired(self):\n",
    "        print(f\"{self.name} needs to have the software {self.assigned_software}\")\n",
    "    \n",
    "          "
   ]
  },
  {
   "cell_type": "code",
   "execution_count": 68,
   "metadata": {},
   "outputs": [
    {
     "name": "stdout",
     "output_type": "stream",
     "text": [
      "3 software assigned to Jared\n",
      "Jared has been working in the company for 5 years since inception\n",
      "Jared has an increment of $250 and his new salary for year end is $5250\n"
     ]
    }
   ],
   "source": [
    "#Specifying employee without input\n",
    "e1=Employees('Jared','jared@hotmail.com','Marketing','Sally','5000',['MS Office','Python','AWS'],2018)\n",
    "e1.number_of_software()\n",
    "e1.number_of_years()\n",
    "e1.employee_new_salary()"
   ]
  },
  {
   "cell_type": "code",
   "execution_count": 75,
   "metadata": {},
   "outputs": [],
   "source": [
    "#Specifying employee with input\n",
    "newEmployee = Employees.new_employee()"
   ]
  },
  {
   "cell_type": "code",
   "execution_count": 76,
   "metadata": {},
   "outputs": [
    {
     "name": "stdout",
     "output_type": "stream",
     "text": [
      "4 software assigned to James\n",
      "James has been working in the company for 4 years since inception\n",
      "James has an increment of $300 and his new salary for year end is $6300\n"
     ]
    }
   ],
   "source": [
    "newEmployee.number_of_software()\n",
    "newEmployee.number_of_years()\n",
    "newEmployee.employee_new_salary()"
   ]
  },
  {
   "attachments": {},
   "cell_type": "markdown",
   "metadata": {},
   "source": [
    "### Question 2 (10 marks):\n",
    "\n",
    "* To onboard new employees, the company has a process by which HR provides a csv file with the information captured in the class above, includng: Year Onboarded, Name, Department, Manager, and Current Salary. The Manager of the employee provides a separate csv file listing the software requirements for each employee. Now that you have defined the class to hold the relevant data, create a program which can do the following:\n",
    "\n",
    "- Take the stated csv files as inputs and assign data for each employee to the class\n",
    "- Produce a single output (e.g., a csv file) which can be given to IT to assign software to all new hires"
   ]
  },
  {
   "cell_type": "code",
   "execution_count": 81,
   "metadata": {},
   "outputs": [
    {
     "name": "stdout",
     "output_type": "stream",
     "text": [
      "Year Onboarded,Name,Department,Manager,Current Salary\n",
      "2023,John,Marketing,Stephanie,50000\n",
      "2023,Amy,Marketing,Stephanie,50000\n",
      "2023,Sidra,Finance,Roger,65000\n",
      "2023,Naveen,Data,Matthias,73000\n",
      "2023,Delilah,Technology,Matthias,67000\n"
     ]
    }
   ],
   "source": [
    "file1 = open('newhires.csv','r+')\n",
    "print(file1.read())"
   ]
  },
  {
   "cell_type": "code",
   "execution_count": 78,
   "metadata": {},
   "outputs": [
    {
     "name": "stdout",
     "output_type": "stream",
     "text": [
      "Department,Access\n",
      "Marketing,\"MS Office, Salesforce\"\n",
      "Finance,\"MS Office, Oracle\"\n",
      "Technology,\"MS Office, Oracle, Salesforce, Python, AWS\"\n",
      "Data,\"MS Office, Python, AWS\"\n",
      "Strategy,MS Office\n"
     ]
    }
   ],
   "source": [
    "file2 = open('access.csv','r+')\n",
    "print(file2.read())"
   ]
  },
  {
   "cell_type": "code",
   "execution_count": 121,
   "metadata": {},
   "outputs": [],
   "source": [
    "newhiresdata = [] # empty list to hold the dictionary for each user\n",
    "\n",
    "with open('newhires.csv','r+', encoding='utf-8-sig') as newhires:\n",
    "    read = csv.DictReader(newhires)\n",
    "    for row in read:\n",
    "        newhiresdata.append(row)"
   ]
  },
  {
   "cell_type": "code",
   "execution_count": 132,
   "metadata": {},
   "outputs": [],
   "source": [
    "newhiresaccess = [] # empty list to hold the dictionary for each user\n",
    "\n",
    "with open('access.csv','r+', encoding='utf-8-sig') as access:\n",
    "    read = csv.DictReader(access)\n",
    "    for row in read:\n",
    "        newhiresaccess.append(row)"
   ]
  },
  {
   "cell_type": "code",
   "execution_count": 133,
   "metadata": {},
   "outputs": [
    {
     "data": {
      "text/plain": [
       "[{'Department': 'Marketing', 'Access': 'MS Office, Salesforce'},\n",
       " {'Department': 'Finance', 'Access': 'MS Office, Oracle'},\n",
       " {'Department': 'Technology',\n",
       "  'Access': 'MS Office, Oracle, Salesforce, Python, AWS'},\n",
       " {'Department': 'Data', 'Access': 'MS Office, Python, AWS'},\n",
       " {'Department': 'Strategy', 'Access': 'MS Office'}]"
      ]
     },
     "execution_count": 133,
     "metadata": {},
     "output_type": "execute_result"
    }
   ],
   "source": [
    "newhiresaccess"
   ]
  },
  {
   "cell_type": "code",
   "execution_count": 122,
   "metadata": {},
   "outputs": [
    {
     "data": {
      "text/plain": [
       "[{'Year Onboarded': '2023',\n",
       "  'Name': 'John',\n",
       "  'Department': 'Marketing',\n",
       "  'Manager': 'Stephanie',\n",
       "  'Current Salary': '50000'},\n",
       " {'Year Onboarded': '2023',\n",
       "  'Name': 'Amy',\n",
       "  'Department': 'Marketing',\n",
       "  'Manager': 'Stephanie',\n",
       "  'Current Salary': '50000'},\n",
       " {'Year Onboarded': '2023',\n",
       "  'Name': 'Sidra',\n",
       "  'Department': 'Finance',\n",
       "  'Manager': 'Roger',\n",
       "  'Current Salary': '65000'},\n",
       " {'Year Onboarded': '2023',\n",
       "  'Name': 'Naveen',\n",
       "  'Department': 'Data',\n",
       "  'Manager': 'Matthias',\n",
       "  'Current Salary': '73000'},\n",
       " {'Year Onboarded': '2023',\n",
       "  'Name': 'Delilah',\n",
       "  'Department': 'Technology',\n",
       "  'Manager': 'Matthias',\n",
       "  'Current Salary': '67000'}]"
      ]
     },
     "execution_count": 122,
     "metadata": {},
     "output_type": "execute_result"
    }
   ],
   "source": [
    "newhiresdata"
   ]
  },
  {
   "cell_type": "code",
   "execution_count": 137,
   "metadata": {},
   "outputs": [],
   "source": [
    "customer_yearonboarded = []\n",
    "customer_name = []\n",
    "customer_department = []\n",
    "customer_manager = []\n",
    "customer_currentsalary = []\n",
    "customer_access = []\n",
    "def data_organiser(x):\n",
    "        global customer_yearonboarded\n",
    "        global customer_name\n",
    "        global customer_department\n",
    "        global customer_manager\n",
    "        global customer_currentsalary\n",
    "        global customer_access\n",
    "\n",
    "        customer_yearonboarded.append(x['Year Onboarded'])\n",
    "        customer_name.append(x['Name'])\n",
    "        customer_department.append(x['Department'])\n",
    "        customer_manager.append(x['Manager'])\n",
    "        customer_currentsalary.append(x['Current Salary'])\n",
    "\n",
    "def data_organizer(y):\n",
    "        customer_access.append(y['Access'])\n"
   ]
  },
  {
   "cell_type": "code",
   "execution_count": 138,
   "metadata": {},
   "outputs": [],
   "source": [
    "for i in newhiresdata:\n",
    "    data_organiser(i)\n",
    "\n",
    "for j in newhiresaccess:\n",
    "    data_organizer(j)"
   ]
  },
  {
   "cell_type": "code",
   "execution_count": 139,
   "metadata": {},
   "outputs": [
    {
     "data": {
      "text/plain": [
       "['MS Office, Salesforce',\n",
       " 'MS Office, Oracle',\n",
       " 'MS Office, Oracle, Salesforce, Python, AWS',\n",
       " 'MS Office, Python, AWS',\n",
       " 'MS Office']"
      ]
     },
     "execution_count": 139,
     "metadata": {},
     "output_type": "execute_result"
    }
   ],
   "source": [
    "customer_access"
   ]
  },
  {
   "cell_type": "code",
   "execution_count": 197,
   "metadata": {},
   "outputs": [
    {
     "name": "stdout",
     "output_type": "stream",
     "text": [
      "John needs to have the software ['MS Office, Salesforce']\n",
      "Amy needs to have the software ['MS Office, Salesforce']\n",
      "Sidra needs to have the software ['MS Office, Oracle']\n",
      "Naveen needs to have the software ['MS Office, Python, AWS']\n",
      "Delilah needs to have the software ['MS Office, Oracle, Salesforce, Python, AWS']\n"
     ]
    }
   ],
   "source": [
    "output = []\n",
    "for j in range(0,5):\n",
    "    customeraccess2 = []\n",
    "    if customer_department[j] == 'Marketing':\n",
    "        customeraccess2 = [customer_access[0]]\n",
    "    elif customer_department[j] == 'Finance':\n",
    "        customeraccess2 = [customer_access[1]]\n",
    "    elif customer_department[j] == 'Technology':\n",
    "        customeraccess2 = [customer_access[2]]\n",
    "    elif customer_department[j] == 'Data':\n",
    "        customeraccess2 = [customer_access[3]]\n",
    "    elif customer_department[j] == 'Strategy':\n",
    "        customeraccess2 = [customer_access[4]]\n",
    "\n",
    "    etest=Employees(customer_name[j],'jared@hotmail.com',customer_department[j],customer_manager[j],customer_currentsalary[j],customeraccess2,customer_yearonboarded[j])\n",
    "    output.append(etest.softwarerequired())"
   ]
  },
  {
   "cell_type": "code",
   "execution_count": 181,
   "metadata": {},
   "outputs": [
    {
     "data": {
      "text/plain": [
       "['MS Office, Oracle']"
      ]
     },
     "execution_count": 181,
     "metadata": {},
     "output_type": "execute_result"
    }
   ],
   "source": [
    "[customer_access[1]]"
   ]
  },
  {
   "cell_type": "code",
   "execution_count": null,
   "metadata": {},
   "outputs": [],
   "source": []
  }
 ],
 "metadata": {
  "kernelspec": {
   "display_name": "Python 3",
   "language": "python",
   "name": "python3"
  },
  "language_info": {
   "codemirror_mode": {
    "name": "ipython",
    "version": 3
   },
   "file_extension": ".py",
   "mimetype": "text/x-python",
   "name": "python",
   "nbconvert_exporter": "python",
   "pygments_lexer": "ipython3",
   "version": "3.11.0"
  },
  "vscode": {
   "interpreter": {
    "hash": "aee8b7b246df8f9039afb4144a1f6fd8d2ca17a180786b69acc140d282b71a49"
   }
  }
 },
 "nbformat": 4,
 "nbformat_minor": 4
}
