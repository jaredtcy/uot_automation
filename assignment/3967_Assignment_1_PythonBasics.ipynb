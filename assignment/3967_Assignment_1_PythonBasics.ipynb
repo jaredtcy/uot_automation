{
 "cells": [
  {
   "cell_type": "markdown",
   "metadata": {},
   "source": [
    "# Python for Automation - Assignment 1\n",
    "\n",
    "## Assignment Objectives\n",
    "\n",
    "The objectives of this assignment are to test your understanding of the Python basics, including:\n",
    "\n",
    "* Working with and manipulating data objects\n",
    "* Working with loops\n",
    "* Defining custom functions\n",
    "\n",
    "\n",
    "## Assignment Instructions\n",
    "\n",
    "For each of the questions below, write Python code to produce the answer. Be sure to run your code and display the output.\n",
    "\n",
    "To submit the assignment, save your Jupyter notebook and submit the file in Quercus."
   ]
  },
  {
   "cell_type": "markdown",
   "metadata": {},
   "source": [
    "### Question 1 (5 marks):\n",
    "\n",
    "* Create a list object which consists of the folowing digits: 1,5,6,7,8,9,11\n",
    "* Write a Python program which returns the first and last value of the list. The output should be [1,11]\n",
    "* Write a Python program which returns each value of the list multiplied by 3 (for example, 1 * 3, 5 * 3, etc.)"
   ]
  },
  {
   "cell_type": "code",
   "execution_count": 26,
   "metadata": {},
   "outputs": [
    {
     "data": {
      "text/plain": [
       "[1, 5, 6, 7, 8, 9, 11]"
      ]
     },
     "execution_count": 26,
     "metadata": {},
     "output_type": "execute_result"
    }
   ],
   "source": [
    "#create list \n",
    "list1=[1,5,6,7,8,9,11]\n",
    "list1"
   ]
  },
  {
   "cell_type": "code",
   "execution_count": 27,
   "metadata": {},
   "outputs": [
    {
     "data": {
      "text/plain": [
       "[1, 11]"
      ]
     },
     "execution_count": 27,
     "metadata": {},
     "output_type": "execute_result"
    }
   ],
   "source": [
    "#Return first anf last value of list\n",
    "list2=[list1[0],list1[-1]]\n",
    "list2\n",
    "\n",
    "    "
   ]
  },
  {
   "cell_type": "code",
   "execution_count": 29,
   "metadata": {},
   "outputs": [
    {
     "data": {
      "text/plain": [
       "[3, 15, 18, 21, 24, 27, 33]"
      ]
     },
     "execution_count": 29,
     "metadata": {},
     "output_type": "execute_result"
    }
   ],
   "source": [
    "list3=list1.copy()\n",
    "list3\n",
    "for i in range(0,7):\n",
    "   list3[i]=list3[i]*3\n",
    "list3\n",
    "\n",
    "\n",
    "\n",
    "\n",
    "    \n",
    "    \n",
    "\n"
   ]
  },
  {
   "cell_type": "markdown",
   "metadata": {},
   "source": [
    "### Question 2 (5 marks):\n",
    "\n",
    "Define a custom function which can take a list as an input, and pull out / display only the values divisible by 3, in order from smallest to largest. For example, if the list [1,12,7,3] was passed through the function, the output should be [3,12] since these two integers are divisible by 3, ordered from smallest to largest. Test your function on the following lists:\n",
    "\n",
    "* [1,6,8,12,7,24,3] -- the output should be [3,6,12,24]\n",
    "* [2,18,9,5,13,30,6] -- the output should be [6,9,18,30]"
   ]
  },
  {
   "cell_type": "code",
   "execution_count": 17,
   "metadata": {},
   "outputs": [
    {
     "data": {
      "text/plain": [
       "[3, 6, 12, 24]"
      ]
     },
     "execution_count": 17,
     "metadata": {},
     "output_type": "execute_result"
    }
   ],
   "source": [
    "list=[1,6,8,12,7,24,3]\n",
    "list2=[]\n",
    "for i in list:\n",
    "    if i%3==0:\n",
    "        list2.append(i)\n",
    "    else:\n",
    "        continue\n",
    "list2.sort()\n",
    "list2"
   ]
  },
  {
   "cell_type": "code",
   "execution_count": 18,
   "metadata": {},
   "outputs": [
    {
     "data": {
      "text/plain": [
       "[6, 9, 18, 30]"
      ]
     },
     "execution_count": 18,
     "metadata": {},
     "output_type": "execute_result"
    }
   ],
   "source": [
    "list=[2,18,9,5,13,30,6]\n",
    "list2=[]\n",
    "for i in list:\n",
    "    if i%3==0:\n",
    "        list2.append(i)\n",
    "    else:\n",
    "        continue\n",
    "list2.sort()\n",
    "list2"
   ]
  },
  {
   "cell_type": "markdown",
   "metadata": {},
   "source": [
    "### Question 3 (5 marks):\n",
    "\n",
    "Given a set of coordinates of a line (x1,y1) and (x2,y2), write a custom Python function which can calculate the slope of the line (change in y divided by change in x). Test your function with the following sets of coordinates:\n",
    "\n",
    "* (1,2) and (7,10)\n",
    "* (3,4) and (13,17)\n",
    "* (7,6) and (11,2)"
   ]
  },
  {
   "cell_type": "code",
   "execution_count": 30,
   "metadata": {},
   "outputs": [
    {
     "data": {
      "text/plain": [
       "1.3333333333333333"
      ]
     },
     "execution_count": 30,
     "metadata": {},
     "output_type": "execute_result"
    }
   ],
   "source": [
    "def slope(x1,y1,x2,y2):\n",
    "    gradient=(y2-y1)/(x2-x1)\n",
    "    return abs(gradient)\n",
    "\n",
    "slope(1,2,7,10)\n",
    "\n",
    "\n",
    "\n",
    "\n",
    "\n",
    "    "
   ]
  },
  {
   "cell_type": "code",
   "execution_count": 35,
   "metadata": {},
   "outputs": [
    {
     "data": {
      "text/plain": [
       "1.3"
      ]
     },
     "execution_count": 35,
     "metadata": {},
     "output_type": "execute_result"
    }
   ],
   "source": [
    "def slope(x1,y1,x2,y2):\n",
    "    gradient=(y2-y1)/(x2-x1)\n",
    "    return abs(gradient)\n",
    "\n",
    "slope(3,4,13,17)\n"
   ]
  },
  {
   "cell_type": "code",
   "execution_count": 33,
   "metadata": {},
   "outputs": [
    {
     "data": {
      "text/plain": [
       "1.0"
      ]
     },
     "execution_count": 33,
     "metadata": {},
     "output_type": "execute_result"
    }
   ],
   "source": [
    "def slope(x1,y1,x2,y2):\n",
    "    gradient=(y2-y1)/(x2-x1)\n",
    "    return abs(gradient)\n",
    "\n",
    "slope(7,6,11,2)"
   ]
  }
 ],
 "metadata": {
  "kernelspec": {
   "display_name": "Python 3",
   "language": "python",
   "name": "python3"
  },
  "language_info": {
   "codemirror_mode": {
    "name": "ipython",
    "version": 3
   },
   "file_extension": ".py",
   "mimetype": "text/x-python",
   "name": "python",
   "nbconvert_exporter": "python",
   "pygments_lexer": "ipython3",
   "version": "3.10.9"
  },
  "vscode": {
   "interpreter": {
    "hash": "b0fa6594d8f4cbf19f97940f81e996739fb7646882a419484c72d19e05852a7e"
   }
  }
 },
 "nbformat": 4,
 "nbformat_minor": 4
}
